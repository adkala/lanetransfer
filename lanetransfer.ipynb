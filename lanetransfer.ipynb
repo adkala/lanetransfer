{
 "cells": [
  {
   "cell_type": "markdown",
   "id": "94973921-aa60-4fc0-a911-513e7dc88601",
   "metadata": {},
   "source": [
    "# End-to-End Ego Lane Estimation based on Sequential Transfer Learning for Self-Driving Cars\n",
    "\n",
    "Following the [paper here](https://openaccess.thecvf.com/content_cvpr_2017_workshops/w13/papers/Kim_End-To-End_Ego_Lane_CVPR_2017_paper.pdf), we are attempting to use transfer learning to estimate lanes better."
   ]
  },
  {
   "cell_type": "code",
   "execution_count": 3,
   "id": "14cde3f4-f425-49e2-a97f-8015a2f07965",
   "metadata": {},
   "outputs": [],
   "source": [
    "import torch\n",
    "from torch import nn, optim\n",
    "from models import SymVGG16\n",
    "\n",
    "learning_rate = 0.05\n",
    "momentum = 0.95\n",
    "epochs = 10\n",
    "\n",
    "# -------------\n",
    "\n",
    "device = torch.device('cuda:0' if torch.cuda.is_available() else 'cpu')\n",
    "\n",
    "model = SymVGG16().to(device)\n",
    "criterion = nn.CrossEntropyLoss()\n",
    "optimizer = optim.SGD(model.parameters(), lr=learning_rate, momentum=momentum)"
   ]
  },
  {
   "cell_type": "code",
   "execution_count": null,
   "id": "4d4762c2-f713-456b-9e9b-8a717874fcdd",
   "metadata": {},
   "outputs": [],
   "source": [
    "# data\n",
    "import loader\n",
    "\n",
    "training_dataset = loader.Dataset(\"data\")\n",
    "test_dataset = loader.Dataset(\"data\", test=True)\n",
    "\n",
    "training_dataloader = torch.utils.data.DataLoader(training_dataset, batch_size=64, shuffle=True, num_workers=2)\n",
    "test_dataloader = torch.utils.data.DataLoader(test_dataset, batch_size=64, shuffle=False, num_workers=2)"
   ]
  },
  {
   "cell_type": "code",
   "execution_count": null,
   "id": "cf935663-5169-4cb8-8e56-cb01cfc5d121",
   "metadata": {},
   "outputs": [],
   "source": [
    "# testing and training\n",
    "# testing and trainking\n",
    "from tqdm.notebook import tqdm\n",
    "\n",
    "loss_history = []\n",
    "acc_history = []\n",
    "n = 10\n",
    "\n",
    "def test():\n",
    "    correct = 0\n",
    "    total = 0\n",
    "    \n",
    "    model.eval()\n",
    "    for data in test_dataloader:\n",
    "        inputs, labels = data\n",
    "        inputs = inputs.to(device)\n",
    "        labels = labels.to(device)\n",
    "        \n",
    "        outputs = model(inputs)\n",
    "        _, predicted = torch.max(outputs.data, 1)\n",
    "        total += torch.numel(labels)\n",
    "        correct += (predicted == labels).sum().item()\n",
    "        \n",
    "    return correct / total\n",
    "\n",
    "current_epoch = 0\n",
    "def train():\n",
    "    global current_epoch\n",
    "    progress_bar = tqdm(range((epochs - current_epoch) * len(training_dataloader)))\n",
    "    epoch_bar = tqdm(range(epochs - current_epoch))\n",
    "    \n",
    "    current_progress = current_epoch * len(training_dataloader)\n",
    "    progress_bar.n = current_progress\n",
    "    progress_bar.last_print_n = current_progress\n",
    "    \n",
    "    model.train()\n",
    "    try:\n",
    "        while(current_epoch < epochs):\n",
    "            for data in training_dataloader:\n",
    "                inputs, labels = data\n",
    "                inputs = inputs.to(device)\n",
    "                labels = labels.to(device)\n",
    "                \n",
    "                outputs = model(inputs)\n",
    "                loss = criterion(outputs, labels.to(torch.long))\n",
    "                \n",
    "                \n",
    "                optimizer.zero_grad()\n",
    "                loss.backward()\n",
    "                optimizer.step()\n",
    "                \n",
    "                progress_bar.update(1)\n",
    "                progress_bar.set_description(\"loss: %.8f\" % loss.item())\n",
    "                \n",
    "            if epoch_bar.n % n == 0:\n",
    "                loss_history.append(loss.item())\n",
    "                \n",
    "                acc = test()\n",
    "                acc_history.append(acc)\n",
    "                model.train()\n",
    "                epoch_bar.set_description(\"accuracy: %.3f\" % acc)\n",
    "                \n",
    "            epoch_bar.update(1)\n",
    "    except KeyboardInterrupt:\n",
    "        current_epoch = epoch_bar.n"
   ]
  },
  {
   "cell_type": "code",
   "execution_count": null,
   "id": "faab2e6c-5f8f-4c83-8239-9ca896323a26",
   "metadata": {},
   "outputs": [],
   "source": [
    "train()"
   ]
  }
 ],
 "metadata": {
  "kernelspec": {
   "display_name": "Python 3 (ipykernel)",
   "language": "python",
   "name": "python3"
  },
  "language_info": {
   "codemirror_mode": {
    "name": "ipython",
    "version": 3
   },
   "file_extension": ".py",
   "mimetype": "text/x-python",
   "name": "python",
   "nbconvert_exporter": "python",
   "pygments_lexer": "ipython3",
   "version": "3.9.12"
  }
 },
 "nbformat": 4,
 "nbformat_minor": 5
}
